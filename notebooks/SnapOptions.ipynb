{
 "cells": [
  {
   "cell_type": "code",
   "execution_count": null,
   "id": "german-psychiatry",
   "metadata": {},
   "outputs": [],
   "source": [
    "import time\n",
    "import pytz\n",
    "import yahoo_loader \n",
    "import datetime as dt\n",
    "from yahoo_loader import snap_options, snap_ois_rate_curve\n",
    "from voltoolbox.fit.option_quotes import OptionSnapshot\n",
    "\n",
    "TRADING_SESSION = (dt.time(9, 30), dt.time(16, 0), pytz.timezone('US/Eastern'))\n",
    "\n",
    "def is_trading():\n",
    "    start, end, tz = TRADING_SESSION\n",
    "    now = pytz.UTC.localize(dt.datetime.utcnow())\n",
    "    now = now.astimezone(tz)\n",
    "\n",
    "    is_weekend = now.weekday() in (5, 6)\n",
    "    if is_weekend:\n",
    "        return False\n",
    "\n",
    "    return now.time() >= start and now.time() <= end\n",
    " \n",
    "while True:\n",
    "    if is_trading():\n",
    "        for symb in ['SPX']:       \n",
    "            print(f'snap {symb}')\n",
    "            try:\n",
    "                option_quotes = snap_options(symb)\n",
    "\n",
    "                time_stamp = option_quotes.time_stamp.strftime('%Y%m%d_%H%M')\n",
    "                file_name = f'vol_{symb}_{time_stamp}.json'\n",
    "                with open(file_name, 'w') as f:\n",
    "                    f.write(option_quotes.to_json())\n",
    "\n",
    "                print(f'{file_name}')\n",
    "            except Exception as e:\n",
    "                print('snap failed :')\n",
    "                print(e)\n",
    "        print('')\n",
    "    time.sleep(60*5)"
   ]
  }
 ],
 "metadata": {
  "kernelspec": {
   "display_name": "Python 3",
   "language": "python",
   "name": "python3"
  },
  "language_info": {
   "codemirror_mode": {
    "name": "ipython",
    "version": 3
   },
   "file_extension": ".py",
   "mimetype": "text/x-python",
   "name": "python",
   "nbconvert_exporter": "python",
   "pygments_lexer": "ipython3",
   "version": "3.9.2"
  }
 },
 "nbformat": 4,
 "nbformat_minor": 5
}
