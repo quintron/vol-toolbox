{
 "cells": [
  {
   "cell_type": "code",
   "execution_count": 3,
   "id": "prostate-hungary",
   "metadata": {},
   "outputs": [],
   "source": [
    "import json\n",
    "import pytz\n",
    "\n",
    "import datetime as dt\n",
    "import numpy as np\n",
    "import pandas as pd\n",
    "\n",
    "from voltoolbox.fit.option_quotes import OptionSnapshot\n",
    "from voltoolbox.fit.forward_fit import fit_forward_curve\n",
    "from voltoolbox.fit.fit_utils import prepare_vol_quotes, act365_time\n",
    "from voltoolbox.fit.vol_fit import TargetSlice, fit_atm_vol\n",
    "from voltoolbox.calendar import nyse_calendar\n",
    "from voltoolbox import BusinessTimeMeasure\n",
    "\n",
    "file = 'vol_SPX_20210527_1857.json'\n",
    "with open(file, 'r') as f:\n",
    "    quotes_dict = json.loads(f.read())\n",
    "\n",
    "quotes = OptionSnapshot.from_json_dict(quotes_dict)\n",
    "\n",
    "pricing_dt = quotes.time_stamp\n",
    "if pricing_dt.tzinfo is None:\n",
    "    pricing_dt = pytz.UTC.localize(pricing_dt)  \n",
    "\n",
    "BOX_SPREAD = 50.0 / 10000.0 #50bp\n",
    "forward_curve =  fit_forward_curve(quotes, BOX_SPREAD)"
   ]
  },
  {
   "cell_type": "code",
   "execution_count": 5,
   "id": "certain-empire",
   "metadata": {},
   "outputs": [
    {
     "data": {
      "image/png": "[encoded data removed]",
      "text/plain": [
       "<Figure size 864x576 with 1 Axes>"
      ]
     },
     "metadata": {
      "needs_background": "light"
     },
     "output_type": "display_data"
    }
   ],
   "source": [
    "import ipywidgets as widgets\n",
    "import matplotlib.pyplot as plt\n",
    "%matplotlib inline\n",
    "plt.rcParams['figure.figsize'] = np.array([6.0, 4.0]) * 2.0\n",
    "\n",
    "forward_crv_datas = []\n",
    "for expiry, fwd_quote in forward_curve.items():\n",
    "    fwd_bid, fwd_ask = fwd_quote\n",
    "    fwd = 0.5 * (fwd_bid + fwd_ask)\n",
    "    forward_crv_datas.append([expiry, fwd, fwd_bid, fwd_ask])\n",
    "forward_crv_df = pd.DataFrame(data=forward_crv_datas,\n",
    "                              columns=['expiry', 'fwd', 'fwd_bid', 'fwd_ask'] )\n",
    "forward_crv_df.set_index('expiry', inplace=True)\n",
    "forward_crv_df.index = pd.DatetimeIndex(forward_crv_df.index)\n",
    "\n",
    "disp_fwd_crv_df = forward_crv_df[forward_crv_df.index < '2022-01-01']\n",
    "plt.errorbar(disp_fwd_crv_df.fwd.index, disp_fwd_crv_df.fwd.values,\n",
    "             yerr= (disp_fwd_crv_df.fwd_ask - disp_fwd_crv_df.fwd_bid).values, \n",
    "             ecolor='lime')\n",
    "plt.axhline(y=quotes.ref_spot, color='black')\n",
    "plt.grid()\n",
    "plt.show()"
   ]
  },
  {
   "cell_type": "code",
   "execution_count": 6,
   "id": "amber-orchestra",
   "metadata": {},
   "outputs": [
    {
     "data": {
      "application/vnd.jupyter.widget-view+json": {
       "model_id": "dc397a2e07a3475b97f2ad42e02f61c8",
       "version_major": 2,
       "version_minor": 0
      },
      "text/plain": [
       "interactive(children=(SelectionSlider(description='expi_dt', options=(datetime.datetime(2021, 5, 28, 19, 56, t…"
      ]
     },
     "metadata": {},
     "output_type": "display_data"
    }
   ],
   "source": [
    "quote_slices = {quot_sl.expiry : quot_sl for quot_sl in quotes.slices}\n",
    "expi_w = widgets.SelectionSlider(options = quote_slices.keys())\n",
    "@widgets.interact(expi_dt=expi_w)\n",
    "def plot_callput_parity(expi_dt):\n",
    "    opt_sl = quote_slices[expi_dt]\n",
    "\n",
    "    time_to_mat = act365_time(pricing_dt, opt_sl.expiry)\n",
    "    discount = opt_sl.discount\n",
    "    discount *= np.exp(- BOX_SPREAD * time_to_mat)\n",
    "\n",
    "    call = opt_sl.call\n",
    "    call_asks = pd.Series(call.asks, call.strikes)\n",
    "    call_bids = pd.Series(call.bids, call.strikes)\n",
    "\n",
    "    put = opt_sl.put\n",
    "    put_asks = pd.Series(put.asks, put.strikes)\n",
    "    put_bids = pd.Series(put.bids, put.strikes)\n",
    "    \n",
    "    fwd_asks = (call_asks - put_bids) / discount\n",
    "    fwd_asks += fwd_asks.index\n",
    "    fwd_asks = fwd_asks.dropna()\n",
    "    \n",
    "    fwd_bids = (call_bids - put_asks) / discount\n",
    "    fwd_bids += fwd_bids.index \n",
    "    fwd_bids = fwd_bids.dropna()\n",
    "   \n",
    "    fwd_quote = forward_crv_df.loc[opt_sl.expiry]\n",
    "    fitted_fwd, fwd_bid, fwd_ask = fwd_quote.fwd, fwd_quote.fwd_bid, fwd_quote.fwd_ask\n",
    "\n",
    "    plt.plot(fwd_asks, marker='+', linestyle='none')\n",
    "    plt.plot(fwd_bids, marker='+', linestyle='none')\n",
    "    #plt.axhline(y=quotes.ref_spot, color='black')\n",
    "    \n",
    "    plt.axhline(y=fwd_ask, color='blue')\n",
    "    plt.axhline(y=fwd_bid, color='red')\n",
    "    plt.axhline(y=fitted_fwd, color='lime')\n",
    "\n",
    "    DISPLAY_NB_SPREAD = 5\n",
    "    plt.ylim((fwd_bid - DISPLAY_NB_SPREAD * (fwd_ask - fwd_bid), fwd_ask + DISPLAY_NB_SPREAD * (fwd_ask - fwd_bid)))\n",
    "\n",
    "    plt.title(f'{expi_dt}    ')\n",
    "    plt.grid()\n",
    "    plt.show()"
   ]
  }
 ],
 "metadata": {
  "interpreter": {
   "hash": "b6213b4c57ced199acc8a17ab5747cc581162ae19c84c30935219ca0c2cd09d3"
  },
  "kernelspec": {
   "display_name": "Python 3",
   "language": "python",
   "name": "python3"
  },
  "language_info": {
   "codemirror_mode": {
    "name": "ipython",
    "version": 3
   },
   "file_extension": ".py",
   "mimetype": "text/x-python",
   "name": "python",
   "nbconvert_exporter": "python",
   "pygments_lexer": "ipython3",
   "version": "3.9.2"
  }
 },
 "nbformat": 4,
 "nbformat_minor": 5
}
