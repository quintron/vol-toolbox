{
 "cells": [
  {
   "cell_type": "code",
   "execution_count": null,
   "source": [
    "import json\r\n",
    "import pytz\r\n",
    "\r\n",
    "import datetime as dt\r\n",
    "import numpy as np\r\n",
    "\r\n",
    "from voltoolbox.fit.option_quotes import OptionSnapshot\r\n",
    "from voltoolbox.fit.forward_fit import fit_forward_curve\r\n",
    "from voltoolbox.fit.vol_fit import prepare_vol_quotes, TargetSlice, fit_atm_vol\r\n",
    "from voltoolbox.calendar import nyse_calendar\r\n",
    "from voltoolbox import BusinessTimeMeasure\r\n",
    "\r\n",
    "\r\n",
    "file = 'vol_SPX_20210527_1857.json'\r\n",
    "with open(file, 'r') as f:\r\n",
    "    quotes_dict = json.loads(f.read())\r\n",
    "\r\n",
    "quotes = OptionSnapshot.from_json_dict(quotes_dict)\r\n",
    "\r\n",
    "BOX_SPREAD = 50.0 / 10000.0 #50bp\r\n",
    "fitted_forwards = fit_forward_curve(quotes, BOX_SPREAD)\r\n",
    "\r\n",
    "pricing_dt = quotes.time_stamp\r\n",
    "if pricing_dt.tzinfo is None:\r\n",
    "    pricing_dt = pytz.UTC.localize(pricing_dt)  \r\n",
    "\r\n",
    "business_time = BusinessTimeMeasure(nyse_calendar(), 0.5, 252.0)\r\n",
    "\r\n",
    "vol_quotes = {}\r\n",
    "atm_vols = {}\r\n",
    "for opt_sl in quotes.slices:\r\n",
    "    forward = fitted_forwards.get(opt_sl.expiry, None)\r\n",
    "    if forward:\r\n",
    "        vol_sl = prepare_vol_quotes(opt_sl, forward, BOX_SPREAD, pricing_dt, business_time)\r\n",
    "        vol_quotes[vol_sl.expiry] = vol_sl\r\n",
    "\r\n",
    "        target_sl = TargetSlice.create(vol_sl)\r\n",
    "        atm_vols[vol_sl.expiry] = fit_atm_vol(target_sl)\r\n"
   ],
   "outputs": [],
   "metadata": {}
  },
  {
   "cell_type": "code",
   "execution_count": null,
   "source": [
    "import ipywidgets as widgets\r\n",
    "import matplotlib.pyplot as plt\r\n",
    "%matplotlib inline\r\n",
    "plt.rcParams['figure.figsize'] = np.array([6.0, 4.0]) * 2\r\n",
    "\r\n",
    "plt.plot(fitted_forwards.keys(), fitted_forwards.values(), marker='+')\r\n",
    "plt.grid()\r\n",
    "\r\n",
    "slice_index_w = widgets.IntSlider(value=0, min=0, max =len(vol_quotes)-1)\r\n",
    "@widgets.interact(slice_index=slice_index_w)\r\n",
    "def plot_callput_parity(slice_index):      \r\n",
    "    expi_dt = list(vol_quotes)[slice_index]\r\n",
    "    vol_sl = vol_quotes[expi_dt]\r\n",
    "    \r\n",
    "    put = vol_sl.put\r\n",
    "    put_mids = np.array(put.mids)\r\n",
    "    put_errs = np.array(put.errs)\r\n",
    "    plt.plot(put.log_moneyness, put_mids - put_errs, marker='^', linestyle='none', color='blue', markersize=4)\r\n",
    "    plt.plot(put.log_moneyness, put_mids + put_errs, marker='v', linestyle='none', color='blue', markersize=4)\r\n",
    "\r\n",
    "    call = vol_sl.call\r\n",
    "    call_mids = np.array(call.mids)\r\n",
    "    call_errs = np.array(call.errs)\r\n",
    "    plt.plot(call.log_moneyness, call_mids - call_errs, marker='^', linestyle='none', color='red', markersize=4)\r\n",
    "    plt.plot(call.log_moneyness, call_mids + call_errs, marker='v', linestyle='none', color='red', markersize=4)\r\n",
    "\r\n",
    "    atm_vol, err = atm_vols[expi_dt]\r\n",
    "    plt.axhline(y=atm_vol, color = 'black')\r\n",
    "\r\n",
    "    plt.xlim((-0.60, 0.40))\r\n",
    "    plt.ylim((0.0, 0.60))\r\n",
    "    plt.axvline(x=0.0, color = 'black')\r\n",
    "        \r\n",
    "    plt.title(f'{vol_sl.symbol}  {vol_sl.expiry.date()}    fwd={round(vol_sl.forward, 2)}  atm vol={round(100* atm_vol, 2)} ')\r\n",
    "    plt.grid()\r\n"
   ],
   "outputs": [],
   "metadata": {}
  },
  {
   "cell_type": "code",
   "execution_count": null,
   "source": [],
   "outputs": [],
   "metadata": {}
  }
 ],
 "metadata": {
  "kernelspec": {
   "name": "python3",
   "display_name": "Python 3.9.2 64-bit (system)"
  },
  "language_info": {
   "codemirror_mode": {
    "name": "ipython",
    "version": 3
   },
   "file_extension": ".py",
   "mimetype": "text/x-python",
   "name": "python",
   "nbconvert_exporter": "python",
   "pygments_lexer": "ipython3",
   "version": "3.9.2"
  },
  "interpreter": {
   "hash": "b6213b4c57ced199acc8a17ab5747cc581162ae19c84c30935219ca0c2cd09d3"
  }
 },
 "nbformat": 4,
 "nbformat_minor": 5
}