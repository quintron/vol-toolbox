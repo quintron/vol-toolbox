{
 "cells": [
  {
   "cell_type": "code",
   "execution_count": null,
   "id": "involved-david",
   "metadata": {},
   "outputs": [],
   "source": [
    "import json\n",
    "import math\n",
    "import pytz\n",
    "import voltoolbox\n",
    "import forward_fit\n",
    "\n",
    "import datetime as dt\n",
    "import numpy as np\n",
    "\n",
    "from voltoolbox.fit.option_quotes import OptionSnapshot\n",
    "from voltoolbox.calendar import nyse_calendar\n",
    "from voltoolbox import BusinessTimeMeasure,bs_implied_volatility\n",
    "from forward_fit import fit_forward_curve, act365_time, prepare_quotes_for_fit, OptionKernelRegression\n",
    "\n",
    "\n",
    "file = 'vol_SPX_20210527_1857.json'\n",
    "with open(file, 'r') as f:\n",
    "    quotes_dict = json.loads(f.read())\n",
    "\n",
    "quotes = OptionSnapshot.from_json_dict(quotes_dict)\n",
    "\n",
    "fitted_forwards = fit_forward_curve(quotes)\n",
    "\n",
    "pricing_dt = quotes.time_stamp\n",
    "if pricing_dt.tzinfo is None:\n",
    "    pricing_dt = pytz.UTC.localize(pricing_dt)  \n",
    "\n",
    "business_time = BusinessTimeMeasure(nyse_calendar(), 0.5, 252.0)"
   ]
  },
  {
   "cell_type": "code",
   "execution_count": null,
   "id": "greenhouse-probability",
   "metadata": {
    "tags": []
   },
   "outputs": [],
   "source": [
    "import ipywidgets as widgets\n",
    "import matplotlib.pyplot as plt\n",
    "%matplotlib inline\n",
    "plt.rcParams['figure.figsize'] = np.array([6.0, 4.0]) * 2\n",
    "\n",
    "slice_index_w = widgets.IntSlider(min=0, max =len(quotes.slices)-1)\n",
    "@widgets.interact(slice_index=slice_index_w)\n",
    "def plot_callput_parity(slice_index):      \n",
    "    opt_sl = quotes.slices[slice_index]\n",
    "    \n",
    "    if not opt_sl.expiry in fitted_forwards:\n",
    "        return\n",
    "    \n",
    "    t = business_time.distance(pricing_dt, opt_sl.expiry)\n",
    "    forward = fitted_forwards[opt_sl.expiry]\n",
    "    box_spd = 0.5 / 100.0\n",
    "    discount = opt_sl.discount * math.exp(-box_spd * t)  \n",
    "\n",
    "    put = opt_sl.put\n",
    "    put_bids = np.array(put.bids) / discount\n",
    "    vol_put_bids = np.array([max(0.0, bs_implied_volatility(forward, k, p, t, -1.0))\n",
    "                             for k, p in zip(put.strikes, put_bids)])\n",
    "    put_asks = np.array(put.asks) / discount\n",
    "    vol_put_asks = np.array([max(0.0, bs_implied_volatility(forward, k, p, t, -1.0))\n",
    "                             for k, p in zip(put.strikes, put_asks)])\n",
    "\n",
    "    call = opt_sl.call\n",
    "    call_bids = np.array(call.bids) / discount\n",
    "    vol_call_bids = np.array([max(0.0, bs_implied_volatility(forward, k, p, t, 1.0))\n",
    "                              for k, p in zip(call.strikes, call_bids)])\n",
    "    call_asks = np.array(call.asks) / discount\n",
    "    vol_call_asks = np.array([max(0.0, bs_implied_volatility(forward, k, p, t, 1.0))\n",
    "                              for k, p in zip(call.strikes, call_asks)])\n",
    "\n",
    "    plt.plot(put.strikes, vol_put_bids, marker='^', linestyle='none', color='blue')\n",
    "    plt.plot(put.strikes, vol_put_asks, marker='v', linestyle='none', color='blue')\n",
    "    plt.plot(call.strikes, vol_call_bids, marker='^', linestyle='none', color='red')\n",
    "    plt.plot(call.strikes, vol_call_asks, marker='v', linestyle='none', color='red')\n",
    "    \n",
    "    plt.axvline(x=forward, color = 'black')\n",
    "    plt.ylim((0, 1.1))\n",
    "    plt.title(f'{opt_sl.symbol}  {opt_sl.expiry.date()}    fwd={round(forward, 2)}')\n",
    "    plt.grid()"
   ]
  },
  {
   "cell_type": "code",
   "execution_count": null,
   "id": "gross-scale",
   "metadata": {},
   "outputs": [],
   "source": [
    "plt.plot(fitted_forwards.keys(), fitted_forwards.values(), marker='+')\n",
    "plt.grid()"
   ]
  }
 ],
 "metadata": {
  "kernelspec": {
   "display_name": "Python 3",
   "language": "python",
   "name": "python3"
  },
  "language_info": {
   "codemirror_mode": {
    "name": "ipython",
    "version": 3
   },
   "file_extension": ".py",
   "mimetype": "text/x-python",
   "name": "python",
   "nbconvert_exporter": "python",
   "pygments_lexer": "ipython3",
   "version": "3.9.2"
  }
 },
 "nbformat": 4,
 "nbformat_minor": 5
}
